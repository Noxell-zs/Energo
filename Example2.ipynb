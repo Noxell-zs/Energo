{
 "cells": [
  {
   "cell_type": "markdown",
   "id": "7f196460-b9f6-44c8-836a-fca2e71b7b56",
   "metadata": {
    "tags": []
   },
   "source": [
    "## Почасовой прогноз"
   ]
  },
  {
   "cell_type": "code",
   "execution_count": 2090,
   "id": "40cd186e-ac77-4124-a5aa-507fa3ba1018",
   "metadata": {},
   "outputs": [],
   "source": [
    "import numpy as np\n",
    "import pandas as pd\n",
    "import matplotlib.pyplot as plt\n",
    "import tqdm\n",
    "from sklearn.preprocessing import MinMaxScaler\n",
    "from sklearn.neural_network import MLPRegressor\n",
    "\n",
    "import warnings\n",
    "warnings.simplefilter(\"ignore\")"
   ]
  },
  {
   "cell_type": "code",
   "execution_count": 2091,
   "id": "f94703b0-95d6-4342-9218-1a15c839a686",
   "metadata": {},
   "outputs": [],
   "source": [
    "energo = pd.read_csv('result.csv')"
   ]
  },
  {
   "cell_type": "code",
   "execution_count": 2092,
   "id": "336b0f93-7419-4e45-9fd4-6ad6512c361f",
   "metadata": {},
   "outputs": [],
   "source": [
    "labels = [\n",
    "    # 'Генерация, МВт*ч\\\\',\n",
    "    # 'T',\n",
    "    # 'Po',\n",
    "    # 'U', 'Ff', 'VV'\n",
    "]\n",
    "target = 'Потребление, МВт*ч'\n",
    "names = labels + [target]"
   ]
  },
  {
   "cell_type": "code",
   "execution_count": 2093,
   "id": "d3610e6d-75f3-49f8-a39e-b8da7f9e30ac",
   "metadata": {},
   "outputs": [],
   "source": [
    "energo = energo[names]"
   ]
  },
  {
   "cell_type": "code",
   "execution_count": 2094,
   "id": "66e6a0ba-e9ce-40f6-997d-562c389eb292",
   "metadata": {},
   "outputs": [
    {
     "data": {
      "text/plain": [
       "672"
      ]
     },
     "execution_count": 2094,
     "metadata": {},
     "output_type": "execute_result"
    }
   ],
   "source": [
    "four_old = energo.iloc[: 24 * 7 * 4]\n",
    "n_four_old = four_old.shape[0]\n",
    "n_four_old"
   ]
  },
  {
   "cell_type": "code",
   "execution_count": 2095,
   "id": "e4915fc9-51c1-4023-ae77-d65654db70c1",
   "metadata": {},
   "outputs": [
    {
     "data": {
      "text/plain": [
       "504"
      ]
     },
     "execution_count": 2095,
     "metadata": {},
     "output_type": "execute_result"
    }
   ],
   "source": [
    "three_new = energo.iloc[energo.shape[0] - 24 * 7 * 3 -24*7 : -24*7]\n",
    "n_three_new = three_new.shape[0]\n",
    "n_three_new"
   ]
  },
  {
   "cell_type": "code",
   "execution_count": 2096,
   "id": "3eaedd4b-cd6a-4c92-9135-ab0e9f577326",
   "metadata": {},
   "outputs": [],
   "source": [
    "scaler = MinMaxScaler(feature_range=(0, 1)).fit(pd.concat((four_old, three_new)))"
   ]
  },
  {
   "cell_type": "code",
   "execution_count": 2097,
   "id": "42d42809-20a7-49b7-8d8b-7ea4a9d666ca",
   "metadata": {},
   "outputs": [],
   "source": [
    "preemption = 24 * 3"
   ]
  },
  {
   "cell_type": "code",
   "execution_count": 2098,
   "id": "464a6a91-8618-4de1-93b4-86c68cc2199e",
   "metadata": {},
   "outputs": [],
   "source": [
    "train_x = ([scaler.transform(four_old)[i: i+preemption] for i in range(n_four_old - preemption)] +\n",
    "    [scaler.transform(three_new)[i: i+preemption] for i in range(n_three_new - preemption)])"
   ]
  },
  {
   "cell_type": "code",
   "execution_count": 2099,
   "id": "d0c19c2b-0604-40d2-8fe2-ec2af283a1a1",
   "metadata": {},
   "outputs": [],
   "source": [
    "sh = np.array(train_x).shape[2]\n",
    "s_train_x = [[] for _ in range(sh)]\n",
    "\n",
    "for i in train_x:\n",
    "    for j in range(sh):\n",
    "        s_train_x[j].append(i.T[j])"
   ]
  },
  {
   "cell_type": "code",
   "execution_count": 2100,
   "id": "450a839f-863b-497d-8584-6c5897b0f483",
   "metadata": {},
   "outputs": [],
   "source": [
    "gr_train_x = list(map(np.concatenate, train_x))"
   ]
  },
  {
   "cell_type": "code",
   "execution_count": 2101,
   "id": "dbee1766-bcd2-4775-8cd4-39d8056a2e16",
   "metadata": {},
   "outputs": [],
   "source": [
    "train_subs = np.concatenate((scaler.transform(four_old)[preemption-n_four_old:],\n",
    "    scaler.transform(three_new)[preemption-n_three_new:])).T"
   ]
  },
  {
   "cell_type": "code",
   "execution_count": 2102,
   "id": "610798aa-9e30-4ba2-bae9-a36866fc49a7",
   "metadata": {},
   "outputs": [],
   "source": [
    "train_y = train_subs[-1]"
   ]
  },
  {
   "cell_type": "code",
   "execution_count": 2103,
   "id": "6bdb3c33-425c-4356-abb1-1aaa260d5d00",
   "metadata": {},
   "outputs": [],
   "source": [
    "sub_models = [MLPRegressor(hidden_layer_sizes=(500,), max_iter=1000, random_state=1) for _ in train_subs[:-1]]\n",
    "g_model = MLPRegressor(hidden_layer_sizes=(500,), max_iter=1000, random_state=1)"
   ]
  },
  {
   "cell_type": "code",
   "execution_count": 2104,
   "id": "bab9676a-479a-4670-af19-f32c5cf9a463",
   "metadata": {},
   "outputs": [
    {
     "data": {
      "text/html": [
       "<style>#sk-container-id-83 {color: black;background-color: white;}#sk-container-id-83 pre{padding: 0;}#sk-container-id-83 div.sk-toggleable {background-color: white;}#sk-container-id-83 label.sk-toggleable__label {cursor: pointer;display: block;width: 100%;margin-bottom: 0;padding: 0.3em;box-sizing: border-box;text-align: center;}#sk-container-id-83 label.sk-toggleable__label-arrow:before {content: \"▸\";float: left;margin-right: 0.25em;color: #696969;}#sk-container-id-83 label.sk-toggleable__label-arrow:hover:before {color: black;}#sk-container-id-83 div.sk-estimator:hover label.sk-toggleable__label-arrow:before {color: black;}#sk-container-id-83 div.sk-toggleable__content {max-height: 0;max-width: 0;overflow: hidden;text-align: left;background-color: #f0f8ff;}#sk-container-id-83 div.sk-toggleable__content pre {margin: 0.2em;color: black;border-radius: 0.25em;background-color: #f0f8ff;}#sk-container-id-83 input.sk-toggleable__control:checked~div.sk-toggleable__content {max-height: 200px;max-width: 100%;overflow: auto;}#sk-container-id-83 input.sk-toggleable__control:checked~label.sk-toggleable__label-arrow:before {content: \"▾\";}#sk-container-id-83 div.sk-estimator input.sk-toggleable__control:checked~label.sk-toggleable__label {background-color: #d4ebff;}#sk-container-id-83 div.sk-label input.sk-toggleable__control:checked~label.sk-toggleable__label {background-color: #d4ebff;}#sk-container-id-83 input.sk-hidden--visually {border: 0;clip: rect(1px 1px 1px 1px);clip: rect(1px, 1px, 1px, 1px);height: 1px;margin: -1px;overflow: hidden;padding: 0;position: absolute;width: 1px;}#sk-container-id-83 div.sk-estimator {font-family: monospace;background-color: #f0f8ff;border: 1px dotted black;border-radius: 0.25em;box-sizing: border-box;margin-bottom: 0.5em;}#sk-container-id-83 div.sk-estimator:hover {background-color: #d4ebff;}#sk-container-id-83 div.sk-parallel-item::after {content: \"\";width: 100%;border-bottom: 1px solid gray;flex-grow: 1;}#sk-container-id-83 div.sk-label:hover label.sk-toggleable__label {background-color: #d4ebff;}#sk-container-id-83 div.sk-serial::before {content: \"\";position: absolute;border-left: 1px solid gray;box-sizing: border-box;top: 0;bottom: 0;left: 50%;z-index: 0;}#sk-container-id-83 div.sk-serial {display: flex;flex-direction: column;align-items: center;background-color: white;padding-right: 0.2em;padding-left: 0.2em;position: relative;}#sk-container-id-83 div.sk-item {position: relative;z-index: 1;}#sk-container-id-83 div.sk-parallel {display: flex;align-items: stretch;justify-content: center;background-color: white;position: relative;}#sk-container-id-83 div.sk-item::before, #sk-container-id-83 div.sk-parallel-item::before {content: \"\";position: absolute;border-left: 1px solid gray;box-sizing: border-box;top: 0;bottom: 0;left: 50%;z-index: -1;}#sk-container-id-83 div.sk-parallel-item {display: flex;flex-direction: column;z-index: 1;position: relative;background-color: white;}#sk-container-id-83 div.sk-parallel-item:first-child::after {align-self: flex-end;width: 50%;}#sk-container-id-83 div.sk-parallel-item:last-child::after {align-self: flex-start;width: 50%;}#sk-container-id-83 div.sk-parallel-item:only-child::after {width: 0;}#sk-container-id-83 div.sk-dashed-wrapped {border: 1px dashed gray;margin: 0 0.4em 0.5em 0.4em;box-sizing: border-box;padding-bottom: 0.4em;background-color: white;}#sk-container-id-83 div.sk-label label {font-family: monospace;font-weight: bold;display: inline-block;line-height: 1.2em;}#sk-container-id-83 div.sk-label-container {text-align: center;}#sk-container-id-83 div.sk-container {/* jupyter's `normalize.less` sets `[hidden] { display: none; }` but bootstrap.min.css set `[hidden] { display: none !important; }` so we also need the `!important` here to be able to override the default hidden behavior on the sphinx rendered scikit-learn.org. See: https://github.com/scikit-learn/scikit-learn/issues/21755 */display: inline-block !important;position: relative;}#sk-container-id-83 div.sk-text-repr-fallback {display: none;}</style><div id=\"sk-container-id-83\" class=\"sk-top-container\"><div class=\"sk-text-repr-fallback\"><pre>MLPRegressor(hidden_layer_sizes=(500,), max_iter=1000, random_state=1)</pre><b>In a Jupyter environment, please rerun this cell to show the HTML representation or trust the notebook. <br />On GitHub, the HTML representation is unable to render, please try loading this page with nbviewer.org.</b></div><div class=\"sk-container\" hidden><div class=\"sk-item\"><div class=\"sk-estimator sk-toggleable\"><input class=\"sk-toggleable__control sk-hidden--visually\" id=\"sk-estimator-id-83\" type=\"checkbox\" checked><label for=\"sk-estimator-id-83\" class=\"sk-toggleable__label sk-toggleable__label-arrow\">MLPRegressor</label><div class=\"sk-toggleable__content\"><pre>MLPRegressor(hidden_layer_sizes=(500,), max_iter=1000, random_state=1)</pre></div></div></div></div></div>"
      ],
      "text/plain": [
       "MLPRegressor(hidden_layer_sizes=(500,), max_iter=1000, random_state=1)"
      ]
     },
     "execution_count": 2104,
     "metadata": {},
     "output_type": "execute_result"
    }
   ],
   "source": [
    "g_model.fit(gr_train_x, train_y)"
   ]
  },
  {
   "cell_type": "code",
   "execution_count": 2105,
   "id": "a7fbd4de-fe43-4e66-a7c9-2eeb4ceb472c",
   "metadata": {},
   "outputs": [
    {
     "name": "stderr",
     "output_type": "stream",
     "text": [
      "0it [00:00, ?it/s]\n"
     ]
    }
   ],
   "source": [
    "for i in tqdm.tqdm(range(len(sub_models))):\n",
    "    sub_models[i].fit(s_train_x[i], train_subs[i])"
   ]
  },
  {
   "cell_type": "code",
   "execution_count": 2106,
   "id": "09fb7d72-8f90-447a-9d3e-da3219fe9e2a",
   "metadata": {},
   "outputs": [],
   "source": [
    "series = scaler.transform(three_new)[-preemption:].T.tolist()"
   ]
  },
  {
   "cell_type": "code",
   "execution_count": 2107,
   "id": "16921b00-c977-4431-8198-1941569b2100",
   "metadata": {},
   "outputs": [
    {
     "name": "stderr",
     "output_type": "stream",
     "text": [
      "100%|████████████████████████████████████████████████████████████████████████████| 168/168 [00:00<00:00, 167772.16it/s]\n"
     ]
    }
   ],
   "source": [
    "for _ in tqdm.tqdm(range(24*7)):\n",
    "    for i in range(sh-1):\n",
    "        series[i].append(sub_models[i].predict([series[i][-preemption:]])[0])"
   ]
  },
  {
   "cell_type": "code",
   "execution_count": 2108,
   "id": "59acd954-d65b-40d0-9b07-2cb7d9feb12e",
   "metadata": {},
   "outputs": [
    {
     "name": "stderr",
     "output_type": "stream",
     "text": [
      "100%|██████████████████████████████████████████████████████████████████████████████| 168/168 [00:00<00:00, 4421.43it/s]\n"
     ]
    }
   ],
   "source": [
    "for _ in tqdm.tqdm(range(24*7)):\n",
    "    s = np.array([i[-preemption:] for i in series]).reshape(-1)\n",
    "    series[-1].append(g_model.predict([s])[0])"
   ]
  },
  {
   "cell_type": "code",
   "execution_count": 2109,
   "id": "0762b6f1-c239-44ab-a34e-7d21a2149010",
   "metadata": {},
   "outputs": [],
   "source": [
    "y_true = [i[-1] for i in scaler.transform(energo.iloc[-24*7-preemption:])]"
   ]
  },
  {
   "cell_type": "code",
   "execution_count": 2110,
   "id": "8d94ada4-cc21-4f27-b139-26115a767ece",
   "metadata": {},
   "outputs": [
    {
     "data": {
      "image/png": "[encoded data removed]",
      "text/plain": [
       "<Figure size 800x400 with 1 Axes>"
      ]
     },
     "metadata": {},
     "output_type": "display_data"
    }
   ],
   "source": [
    "r1 = np.array(range(len(y_true[:preemption])))\n",
    "r2 = np.array(range(len(y_true[:preemption])-1, len(y_true)))\n",
    "\n",
    "plt.figure(figsize=(8,4))\n",
    "plt.plot(r1, y_true[:preemption], zorder=10, color='orange', label='Inputs')\n",
    "plt.plot(r2, series[-1][preemption-1:], color='red', label='Labels')\n",
    "plt.plot(r2, y_true[preemption-1:], color='green', label='Predictions')\n",
    "_ = plt.legend()\n",
    "\n",
    "plt.show()"
   ]
  },
  {
   "cell_type": "code",
   "execution_count": 2111,
   "id": "1a5d93d1-d505-4466-8199-17f0ce8a3eba",
   "metadata": {},
   "outputs": [
    {
     "name": "stdout",
     "output_type": "stream",
     "text": [
      "MAE: 0.025971322518613095\n"
     ]
    }
   ],
   "source": [
    "print(\"MAE:\", abs(np.array(series[-1][preemption:]) - np.array(y_true[preemption:])).mean())"
   ]
  },
  {
   "cell_type": "markdown",
   "id": "60c49ef8-0d06-4822-8483-b62e29791240",
   "metadata": {},
   "source": [
    "## Подневный прогноз"
   ]
  },
  {
   "cell_type": "markdown",
   "id": "2fccabdc-937d-444f-af05-a49fe4d77991",
   "metadata": {},
   "source": [
    "#### Один параметр"
   ]
  },
  {
   "cell_type": "code",
   "execution_count": 2112,
   "id": "00b62f48-7965-4de3-b998-5e343ab6ee77",
   "metadata": {},
   "outputs": [],
   "source": [
    "energo = pd.read_csv('result.csv')"
   ]
  },
  {
   "cell_type": "code",
   "execution_count": 2113,
   "id": "d335d38c-4017-46b2-bb17-e309ed7e5002",
   "metadata": {},
   "outputs": [],
   "source": [
    "target = 'Потребление, МВт*ч'\n",
    "names = [target]"
   ]
  },
  {
   "cell_type": "code",
   "execution_count": 2114,
   "id": "b3359a53-0b4f-4eb4-abf0-689ed149f12b",
   "metadata": {},
   "outputs": [],
   "source": [
    "days = len(energo[target])\n",
    "hours = days // 24"
   ]
  },
  {
   "cell_type": "code",
   "execution_count": 2115,
   "id": "60d6b459-7139-41b0-8a62-2dbb031276ef",
   "metadata": {},
   "outputs": [],
   "source": [
    "d = {i: [j.mean() for j in np.array(energo[i])[:24*hours].reshape((hours, 24))] for i in names}"
   ]
  },
  {
   "cell_type": "code",
   "execution_count": 2116,
   "id": "df61d462-dcb2-4443-a50d-ff74ac5c6bc7",
   "metadata": {},
   "outputs": [
    {
     "data": {
      "text/html": [
       "<div>\n",
       "<style scoped>\n",
       "    .dataframe tbody tr th:only-of-type {\n",
       "        vertical-align: middle;\n",
       "    }\n",
       "\n",
       "    .dataframe tbody tr th {\n",
       "        vertical-align: top;\n",
       "    }\n",
       "\n",
       "    .dataframe thead th {\n",
       "        text-align: right;\n",
       "    }\n",
       "</style>\n",
       "<table border=\"1\" class=\"dataframe\">\n",
       "  <thead>\n",
       "    <tr style=\"text-align: right;\">\n",
       "      <th></th>\n",
       "      <th>Потребление, МВт*ч</th>\n",
       "    </tr>\n",
       "  </thead>\n",
       "  <tbody>\n",
       "    <tr>\n",
       "      <th>0</th>\n",
       "      <td>26522.416667</td>\n",
       "    </tr>\n",
       "  </tbody>\n",
       "</table>\n",
       "</div>"
      ],
      "text/plain": [
       "   Потребление, МВт*ч\n",
       "0        26522.416667"
      ]
     },
     "execution_count": 2116,
     "metadata": {},
     "output_type": "execute_result"
    }
   ],
   "source": [
    "energo_d = pd.DataFrame(d)\n",
    "energo_d.head(1)"
   ]
  },
  {
   "cell_type": "code",
   "execution_count": 2117,
   "id": "3aa32106-78a9-418b-b685-b8063580e9e6",
   "metadata": {},
   "outputs": [],
   "source": [
    "n_old = 260\n",
    "old = energo_d.iloc[: n_old]"
   ]
  },
  {
   "cell_type": "code",
   "execution_count": 2118,
   "id": "30bc88ae-fc30-40dc-8910-8f2f52dd807d",
   "metadata": {},
   "outputs": [],
   "source": [
    "scaler = MinMaxScaler(feature_range=(0, 1)).fit(old)"
   ]
  },
  {
   "cell_type": "code",
   "execution_count": 2119,
   "id": "1f6cfc16-204a-4786-9359-693eae326019",
   "metadata": {},
   "outputs": [],
   "source": [
    "preemption = 30"
   ]
  },
  {
   "cell_type": "code",
   "execution_count": 2120,
   "id": "e6921417-9cb5-4aa6-8788-f18e0574758e",
   "metadata": {},
   "outputs": [],
   "source": [
    "train_x = ([scaler.transform(old)[i: i+preemption] for i in range(n_old - preemption)])"
   ]
  },
  {
   "cell_type": "code",
   "execution_count": 2121,
   "id": "c79bbddb-20c7-4e80-9763-18f96844609c",
   "metadata": {},
   "outputs": [],
   "source": [
    "sh = np.array(train_x).shape[2]\n",
    "s_train_x = [[] for _ in range(sh)]\n",
    "\n",
    "for i in train_x:\n",
    "    for j in range(sh):\n",
    "        s_train_x[j].append(i.T[j])"
   ]
  },
  {
   "cell_type": "code",
   "execution_count": 2122,
   "id": "a631463b-b842-47f2-a9e0-b0a90d6414bd",
   "metadata": {},
   "outputs": [],
   "source": [
    "gr_train_x = list(map(np.concatenate, train_x))"
   ]
  },
  {
   "cell_type": "code",
   "execution_count": 2123,
   "id": "88ef58be-5072-4bdb-ab0b-b572b3e11ef0",
   "metadata": {},
   "outputs": [],
   "source": [
    "train_subs = scaler.transform(old)[preemption-n_old:].T"
   ]
  },
  {
   "cell_type": "code",
   "execution_count": 2124,
   "id": "5b0587a2-d07b-4360-b6f3-a36fc0577082",
   "metadata": {},
   "outputs": [],
   "source": [
    "train_y = train_subs[-1]"
   ]
  },
  {
   "cell_type": "code",
   "execution_count": 2125,
   "id": "a1784c03-48d8-48e8-bd0e-4e3842cb82c9",
   "metadata": {},
   "outputs": [],
   "source": [
    "g_model = MLPRegressor(hidden_layer_sizes=(500,), max_iter=1000, random_state=1)"
   ]
  },
  {
   "cell_type": "code",
   "execution_count": 2126,
   "id": "79baa62e-53a6-420c-b2bf-19249d919d91",
   "metadata": {},
   "outputs": [
    {
     "data": {
      "text/html": [
       "<style>#sk-container-id-84 {color: black;background-color: white;}#sk-container-id-84 pre{padding: 0;}#sk-container-id-84 div.sk-toggleable {background-color: white;}#sk-container-id-84 label.sk-toggleable__label {cursor: pointer;display: block;width: 100%;margin-bottom: 0;padding: 0.3em;box-sizing: border-box;text-align: center;}#sk-container-id-84 label.sk-toggleable__label-arrow:before {content: \"▸\";float: left;margin-right: 0.25em;color: #696969;}#sk-container-id-84 label.sk-toggleable__label-arrow:hover:before {color: black;}#sk-container-id-84 div.sk-estimator:hover label.sk-toggleable__label-arrow:before {color: black;}#sk-container-id-84 div.sk-toggleable__content {max-height: 0;max-width: 0;overflow: hidden;text-align: left;background-color: #f0f8ff;}#sk-container-id-84 div.sk-toggleable__content pre {margin: 0.2em;color: black;border-radius: 0.25em;background-color: #f0f8ff;}#sk-container-id-84 input.sk-toggleable__control:checked~div.sk-toggleable__content {max-height: 200px;max-width: 100%;overflow: auto;}#sk-container-id-84 input.sk-toggleable__control:checked~label.sk-toggleable__label-arrow:before {content: \"▾\";}#sk-container-id-84 div.sk-estimator input.sk-toggleable__control:checked~label.sk-toggleable__label {background-color: #d4ebff;}#sk-container-id-84 div.sk-label input.sk-toggleable__control:checked~label.sk-toggleable__label {background-color: #d4ebff;}#sk-container-id-84 input.sk-hidden--visually {border: 0;clip: rect(1px 1px 1px 1px);clip: rect(1px, 1px, 1px, 1px);height: 1px;margin: -1px;overflow: hidden;padding: 0;position: absolute;width: 1px;}#sk-container-id-84 div.sk-estimator {font-family: monospace;background-color: #f0f8ff;border: 1px dotted black;border-radius: 0.25em;box-sizing: border-box;margin-bottom: 0.5em;}#sk-container-id-84 div.sk-estimator:hover {background-color: #d4ebff;}#sk-container-id-84 div.sk-parallel-item::after {content: \"\";width: 100%;border-bottom: 1px solid gray;flex-grow: 1;}#sk-container-id-84 div.sk-label:hover label.sk-toggleable__label {background-color: #d4ebff;}#sk-container-id-84 div.sk-serial::before {content: \"\";position: absolute;border-left: 1px solid gray;box-sizing: border-box;top: 0;bottom: 0;left: 50%;z-index: 0;}#sk-container-id-84 div.sk-serial {display: flex;flex-direction: column;align-items: center;background-color: white;padding-right: 0.2em;padding-left: 0.2em;position: relative;}#sk-container-id-84 div.sk-item {position: relative;z-index: 1;}#sk-container-id-84 div.sk-parallel {display: flex;align-items: stretch;justify-content: center;background-color: white;position: relative;}#sk-container-id-84 div.sk-item::before, #sk-container-id-84 div.sk-parallel-item::before {content: \"\";position: absolute;border-left: 1px solid gray;box-sizing: border-box;top: 0;bottom: 0;left: 50%;z-index: -1;}#sk-container-id-84 div.sk-parallel-item {display: flex;flex-direction: column;z-index: 1;position: relative;background-color: white;}#sk-container-id-84 div.sk-parallel-item:first-child::after {align-self: flex-end;width: 50%;}#sk-container-id-84 div.sk-parallel-item:last-child::after {align-self: flex-start;width: 50%;}#sk-container-id-84 div.sk-parallel-item:only-child::after {width: 0;}#sk-container-id-84 div.sk-dashed-wrapped {border: 1px dashed gray;margin: 0 0.4em 0.5em 0.4em;box-sizing: border-box;padding-bottom: 0.4em;background-color: white;}#sk-container-id-84 div.sk-label label {font-family: monospace;font-weight: bold;display: inline-block;line-height: 1.2em;}#sk-container-id-84 div.sk-label-container {text-align: center;}#sk-container-id-84 div.sk-container {/* jupyter's `normalize.less` sets `[hidden] { display: none; }` but bootstrap.min.css set `[hidden] { display: none !important; }` so we also need the `!important` here to be able to override the default hidden behavior on the sphinx rendered scikit-learn.org. See: https://github.com/scikit-learn/scikit-learn/issues/21755 */display: inline-block !important;position: relative;}#sk-container-id-84 div.sk-text-repr-fallback {display: none;}</style><div id=\"sk-container-id-84\" class=\"sk-top-container\"><div class=\"sk-text-repr-fallback\"><pre>MLPRegressor(hidden_layer_sizes=(500,), max_iter=1000, random_state=1)</pre><b>In a Jupyter environment, please rerun this cell to show the HTML representation or trust the notebook. <br />On GitHub, the HTML representation is unable to render, please try loading this page with nbviewer.org.</b></div><div class=\"sk-container\" hidden><div class=\"sk-item\"><div class=\"sk-estimator sk-toggleable\"><input class=\"sk-toggleable__control sk-hidden--visually\" id=\"sk-estimator-id-84\" type=\"checkbox\" checked><label for=\"sk-estimator-id-84\" class=\"sk-toggleable__label sk-toggleable__label-arrow\">MLPRegressor</label><div class=\"sk-toggleable__content\"><pre>MLPRegressor(hidden_layer_sizes=(500,), max_iter=1000, random_state=1)</pre></div></div></div></div></div>"
      ],
      "text/plain": [
       "MLPRegressor(hidden_layer_sizes=(500,), max_iter=1000, random_state=1)"
      ]
     },
     "execution_count": 2126,
     "metadata": {},
     "output_type": "execute_result"
    }
   ],
   "source": [
    "g_model.fit(gr_train_x, train_y)"
   ]
  },
  {
   "cell_type": "code",
   "execution_count": 2127,
   "id": "9e2d1cbd-44ac-4ee1-ab10-631a29fae5b3",
   "metadata": {},
   "outputs": [],
   "source": [
    "series = scaler.transform(old)[-preemption:].T.tolist()"
   ]
  },
  {
   "cell_type": "code",
   "execution_count": 2128,
   "id": "f45e7f67-b6d5-4505-bf4a-23e0afbcfa60",
   "metadata": {},
   "outputs": [
    {
     "name": "stderr",
     "output_type": "stream",
     "text": [
      "100%|████████████████████████████████████████████████████████████████████████████████| 30/30 [00:00<00:00, 3749.94it/s]\n"
     ]
    }
   ],
   "source": [
    "for _ in tqdm.tqdm(range(30)):\n",
    "    s = np.array([i[-preemption:] for i in series]).reshape(-1)\n",
    "    series[-1].append(g_model.predict([s])[0])"
   ]
  },
  {
   "cell_type": "code",
   "execution_count": 2129,
   "id": "9b19498c-4965-49cb-ae84-ed7f49e74d18",
   "metadata": {},
   "outputs": [],
   "source": [
    "y_true = [i[-1] for i in scaler.transform(energo_d.iloc[-30-preemption:])]"
   ]
  },
  {
   "cell_type": "code",
   "execution_count": 2130,
   "id": "0ddaa96c-e4d5-480e-8ed7-ffc965d08c9d",
   "metadata": {},
   "outputs": [
    {
     "data": {
      "image/png": "[encoded data removed]",
      "text/plain": [
       "<Figure size 800x400 with 1 Axes>"
      ]
     },
     "metadata": {},
     "output_type": "display_data"
    }
   ],
   "source": [
    "r1 = np.array(range(len(y_true[:preemption])))\n",
    "r2 = np.array(range(len(y_true[:preemption])-1, len(y_true)))\n",
    "\n",
    "plt.figure(figsize=(8,4))\n",
    "plt.plot(r1, y_true[:preemption], zorder=10, color='orange', label='Inputs')\n",
    "plt.plot(r2, series[-1][preemption-1:], color='red', label='Labels')\n",
    "plt.plot(r2, y_true[preemption-1:], color='green', label='Predictions')\n",
    "_ = plt.legend()\n",
    "\n",
    "plt.show()"
   ]
  },
  {
   "cell_type": "code",
   "execution_count": 2131,
   "id": "c1b4531a-59d3-44a4-ba1e-3d36b49dab1e",
   "metadata": {},
   "outputs": [
    {
     "name": "stdout",
     "output_type": "stream",
     "text": [
      "MAE: 0.1481311806415708\n"
     ]
    }
   ],
   "source": [
    "print(\"MAE:\", abs(np.array(series[-1][preemption:]) - np.array(y_true[preemption:])).mean())"
   ]
  },
  {
   "cell_type": "markdown",
   "id": "b3fceb65-46e4-4419-a382-45fb01ed2a81",
   "metadata": {},
   "source": [
    "#### Несколько параметров"
   ]
  },
  {
   "cell_type": "code",
   "execution_count": 2132,
   "id": "3cccf40f-56ef-496c-acb0-7821ec458bb9",
   "metadata": {},
   "outputs": [],
   "source": [
    "labels = [\n",
    "    'Генерация, МВт*ч\\\\',\n",
    "    'T',\n",
    "    # 'Po',\n",
    "    # 'U', 'Ff', 'VV'\n",
    "]\n",
    "target = 'Потребление, МВт*ч'\n",
    "names = labels + [target]"
   ]
  },
  {
   "cell_type": "code",
   "execution_count": 2133,
   "id": "47c7ebd0-3b4c-4521-8e76-5661b7671421",
   "metadata": {},
   "outputs": [],
   "source": [
    "days = len(energo[target])\n",
    "hours = days // 24"
   ]
  },
  {
   "cell_type": "code",
   "execution_count": 2134,
   "id": "8f8eb48f-62de-4797-a488-32f4f949b3e0",
   "metadata": {},
   "outputs": [],
   "source": [
    "d = {i: [j.mean() for j in np.array(energo[i])[:24*hours].reshape((hours, 24))] for i in names}"
   ]
  },
  {
   "cell_type": "code",
   "execution_count": 2135,
   "id": "3456ecb4-aef5-4a66-ae48-e3031b7b46f7",
   "metadata": {},
   "outputs": [],
   "source": [
    "energo_d = pd.DataFrame(d)"
   ]
  },
  {
   "cell_type": "code",
   "execution_count": 2136,
   "id": "38bdda9c-67bf-486b-a560-6edfed6228d6",
   "metadata": {},
   "outputs": [],
   "source": [
    "n_old = 260\n",
    "old = energo_d.iloc[: n_old]"
   ]
  },
  {
   "cell_type": "code",
   "execution_count": 2137,
   "id": "f749dc5d-15e3-4b1a-90ad-1be6d812c0c6",
   "metadata": {},
   "outputs": [],
   "source": [
    "scaler = MinMaxScaler(feature_range=(0, 1)).fit(old)"
   ]
  },
  {
   "cell_type": "code",
   "execution_count": 2138,
   "id": "1293486b-6580-48ac-aafa-1113b87afa7d",
   "metadata": {},
   "outputs": [],
   "source": [
    "preemption = 30"
   ]
  },
  {
   "cell_type": "code",
   "execution_count": 2139,
   "id": "adece1bb-f0a6-4d1d-8e33-a97f5c942cbd",
   "metadata": {},
   "outputs": [],
   "source": [
    "train_x = ([scaler.transform(old)[i: i+preemption] for i in range(n_old - preemption)])"
   ]
  },
  {
   "cell_type": "code",
   "execution_count": 2140,
   "id": "b64088a9-872e-48fd-84db-20b570e94f57",
   "metadata": {},
   "outputs": [],
   "source": [
    "sh = np.array(train_x).shape[2]\n",
    "s_train_x = [[] for _ in range(sh)]\n",
    "\n",
    "for i in train_x:\n",
    "    for j in range(sh):\n",
    "        s_train_x[j].append(i.T[j])"
   ]
  },
  {
   "cell_type": "code",
   "execution_count": 2141,
   "id": "9e6edfef-30a6-42a6-824c-3ee33383a18d",
   "metadata": {},
   "outputs": [],
   "source": [
    "gr_train_x = list(map(np.concatenate, train_x))"
   ]
  },
  {
   "cell_type": "code",
   "execution_count": 2142,
   "id": "4d468bf3-7860-4173-8219-10e1fa60bdf8",
   "metadata": {},
   "outputs": [],
   "source": [
    "train_subs = scaler.transform(old)[preemption-n_old:].T"
   ]
  },
  {
   "cell_type": "code",
   "execution_count": 2143,
   "id": "22db326a-59f6-4a46-bfac-92f5b46e87ca",
   "metadata": {},
   "outputs": [],
   "source": [
    "train_y = train_subs[-1]"
   ]
  },
  {
   "cell_type": "code",
   "execution_count": 2144,
   "id": "d6f713db-a295-435d-8a72-7f4eab2b0e13",
   "metadata": {},
   "outputs": [],
   "source": [
    "sub_models = [MLPRegressor(hidden_layer_sizes=(500,), max_iter=1000, random_state=1) for _ in train_subs[:-1]]\n",
    "g_model = MLPRegressor(hidden_layer_sizes=(500,), max_iter=1000, random_state=1)"
   ]
  },
  {
   "cell_type": "code",
   "execution_count": 2145,
   "id": "3fc212d7-6519-491c-8502-d3ec1dc8453d",
   "metadata": {},
   "outputs": [
    {
     "data": {
      "text/html": [
       "<style>#sk-container-id-85 {color: black;background-color: white;}#sk-container-id-85 pre{padding: 0;}#sk-container-id-85 div.sk-toggleable {background-color: white;}#sk-container-id-85 label.sk-toggleable__label {cursor: pointer;display: block;width: 100%;margin-bottom: 0;padding: 0.3em;box-sizing: border-box;text-align: center;}#sk-container-id-85 label.sk-toggleable__label-arrow:before {content: \"▸\";float: left;margin-right: 0.25em;color: #696969;}#sk-container-id-85 label.sk-toggleable__label-arrow:hover:before {color: black;}#sk-container-id-85 div.sk-estimator:hover label.sk-toggleable__label-arrow:before {color: black;}#sk-container-id-85 div.sk-toggleable__content {max-height: 0;max-width: 0;overflow: hidden;text-align: left;background-color: #f0f8ff;}#sk-container-id-85 div.sk-toggleable__content pre {margin: 0.2em;color: black;border-radius: 0.25em;background-color: #f0f8ff;}#sk-container-id-85 input.sk-toggleable__control:checked~div.sk-toggleable__content {max-height: 200px;max-width: 100%;overflow: auto;}#sk-container-id-85 input.sk-toggleable__control:checked~label.sk-toggleable__label-arrow:before {content: \"▾\";}#sk-container-id-85 div.sk-estimator input.sk-toggleable__control:checked~label.sk-toggleable__label {background-color: #d4ebff;}#sk-container-id-85 div.sk-label input.sk-toggleable__control:checked~label.sk-toggleable__label {background-color: #d4ebff;}#sk-container-id-85 input.sk-hidden--visually {border: 0;clip: rect(1px 1px 1px 1px);clip: rect(1px, 1px, 1px, 1px);height: 1px;margin: -1px;overflow: hidden;padding: 0;position: absolute;width: 1px;}#sk-container-id-85 div.sk-estimator {font-family: monospace;background-color: #f0f8ff;border: 1px dotted black;border-radius: 0.25em;box-sizing: border-box;margin-bottom: 0.5em;}#sk-container-id-85 div.sk-estimator:hover {background-color: #d4ebff;}#sk-container-id-85 div.sk-parallel-item::after {content: \"\";width: 100%;border-bottom: 1px solid gray;flex-grow: 1;}#sk-container-id-85 div.sk-label:hover label.sk-toggleable__label {background-color: #d4ebff;}#sk-container-id-85 div.sk-serial::before {content: \"\";position: absolute;border-left: 1px solid gray;box-sizing: border-box;top: 0;bottom: 0;left: 50%;z-index: 0;}#sk-container-id-85 div.sk-serial {display: flex;flex-direction: column;align-items: center;background-color: white;padding-right: 0.2em;padding-left: 0.2em;position: relative;}#sk-container-id-85 div.sk-item {position: relative;z-index: 1;}#sk-container-id-85 div.sk-parallel {display: flex;align-items: stretch;justify-content: center;background-color: white;position: relative;}#sk-container-id-85 div.sk-item::before, #sk-container-id-85 div.sk-parallel-item::before {content: \"\";position: absolute;border-left: 1px solid gray;box-sizing: border-box;top: 0;bottom: 0;left: 50%;z-index: -1;}#sk-container-id-85 div.sk-parallel-item {display: flex;flex-direction: column;z-index: 1;position: relative;background-color: white;}#sk-container-id-85 div.sk-parallel-item:first-child::after {align-self: flex-end;width: 50%;}#sk-container-id-85 div.sk-parallel-item:last-child::after {align-self: flex-start;width: 50%;}#sk-container-id-85 div.sk-parallel-item:only-child::after {width: 0;}#sk-container-id-85 div.sk-dashed-wrapped {border: 1px dashed gray;margin: 0 0.4em 0.5em 0.4em;box-sizing: border-box;padding-bottom: 0.4em;background-color: white;}#sk-container-id-85 div.sk-label label {font-family: monospace;font-weight: bold;display: inline-block;line-height: 1.2em;}#sk-container-id-85 div.sk-label-container {text-align: center;}#sk-container-id-85 div.sk-container {/* jupyter's `normalize.less` sets `[hidden] { display: none; }` but bootstrap.min.css set `[hidden] { display: none !important; }` so we also need the `!important` here to be able to override the default hidden behavior on the sphinx rendered scikit-learn.org. See: https://github.com/scikit-learn/scikit-learn/issues/21755 */display: inline-block !important;position: relative;}#sk-container-id-85 div.sk-text-repr-fallback {display: none;}</style><div id=\"sk-container-id-85\" class=\"sk-top-container\"><div class=\"sk-text-repr-fallback\"><pre>MLPRegressor(hidden_layer_sizes=(500,), max_iter=1000, random_state=1)</pre><b>In a Jupyter environment, please rerun this cell to show the HTML representation or trust the notebook. <br />On GitHub, the HTML representation is unable to render, please try loading this page with nbviewer.org.</b></div><div class=\"sk-container\" hidden><div class=\"sk-item\"><div class=\"sk-estimator sk-toggleable\"><input class=\"sk-toggleable__control sk-hidden--visually\" id=\"sk-estimator-id-85\" type=\"checkbox\" checked><label for=\"sk-estimator-id-85\" class=\"sk-toggleable__label sk-toggleable__label-arrow\">MLPRegressor</label><div class=\"sk-toggleable__content\"><pre>MLPRegressor(hidden_layer_sizes=(500,), max_iter=1000, random_state=1)</pre></div></div></div></div></div>"
      ],
      "text/plain": [
       "MLPRegressor(hidden_layer_sizes=(500,), max_iter=1000, random_state=1)"
      ]
     },
     "execution_count": 2145,
     "metadata": {},
     "output_type": "execute_result"
    }
   ],
   "source": [
    "g_model.fit(gr_train_x, train_y)"
   ]
  },
  {
   "cell_type": "code",
   "execution_count": 2146,
   "id": "5c79c89a-5897-4e74-a0fe-4b400e76098a",
   "metadata": {},
   "outputs": [
    {
     "name": "stderr",
     "output_type": "stream",
     "text": [
      "100%|████████████████████████████████████████████████████████████████████████████████████| 2/2 [00:00<00:00,  7.09it/s]\n"
     ]
    }
   ],
   "source": [
    "for i in tqdm.tqdm(range(len(sub_models))):\n",
    "    sub_models[i].fit(s_train_x[i], train_subs[i])"
   ]
  },
  {
   "cell_type": "code",
   "execution_count": 2147,
   "id": "165d9abc-a65f-4821-85c8-cca914678fc9",
   "metadata": {},
   "outputs": [],
   "source": [
    "series = scaler.transform(old)[-preemption:].T.tolist()"
   ]
  },
  {
   "cell_type": "code",
   "execution_count": 2148,
   "id": "921ed608-3077-4a13-8c16-e843971b8513",
   "metadata": {},
   "outputs": [
    {
     "name": "stderr",
     "output_type": "stream",
     "text": [
      "100%|████████████████████████████████████████████████████████████████████████████████| 30/30 [00:00<00:00, 1874.91it/s]\n"
     ]
    }
   ],
   "source": [
    "for _ in tqdm.tqdm(range(30)):\n",
    "    for i in range(sh-1):\n",
    "        series[i].append(sub_models[i].predict([series[i][-preemption:]])[0])"
   ]
  },
  {
   "cell_type": "code",
   "execution_count": 2149,
   "id": "27d88a5f-0b04-4785-be3e-ccd5531f8386",
   "metadata": {},
   "outputs": [
    {
     "name": "stderr",
     "output_type": "stream",
     "text": [
      "100%|████████████████████████████████████████████████████████████████████████████████| 30/30 [00:00<00:00, 3656.87it/s]\n"
     ]
    }
   ],
   "source": [
    "for _ in tqdm.tqdm(range(30)):\n",
    "    s = np.array([i[-preemption:] for i in series]).reshape(-1)\n",
    "    series[-1].append(g_model.predict([s])[0])"
   ]
  },
  {
   "cell_type": "code",
   "execution_count": 2150,
   "id": "41f5d3ae-1755-440f-b7b6-0e8c6a123a36",
   "metadata": {},
   "outputs": [],
   "source": [
    "y_true = [i[-1] for i in scaler.transform(energo_d.iloc[-30-preemption:])]"
   ]
  },
  {
   "cell_type": "code",
   "execution_count": 2151,
   "id": "14aa649c-4942-4dea-ac28-d4045567d55e",
   "metadata": {},
   "outputs": [
    {
     "data": {
      "image/png": "[encoded data removed]",
      "text/plain": [
       "<Figure size 800x400 with 1 Axes>"
      ]
     },
     "metadata": {},
     "output_type": "display_data"
    }
   ],
   "source": [
    "r1 = np.array(range(len(y_true[:preemption])))\n",
    "r2 = np.array(range(len(y_true[:preemption])-1, len(y_true)))\n",
    "\n",
    "plt.figure(figsize=(8,4))\n",
    "plt.plot(r1, y_true[:preemption], zorder=10, color='orange', label='Inputs')\n",
    "plt.plot(r2, series[-1][preemption-1:], color='red', label='Labels')\n",
    "plt.plot(r2, y_true[preemption-1:], color='green', label='Predictions')\n",
    "_ = plt.legend()\n",
    "\n",
    "plt.show()"
   ]
  },
  {
   "cell_type": "code",
   "execution_count": 2152,
   "id": "7c7eab84-ba3f-4ad0-9a23-8a46fa1c4298",
   "metadata": {},
   "outputs": [
    {
     "name": "stdout",
     "output_type": "stream",
     "text": [
      "MAE: 0.03619022261478451\n"
     ]
    }
   ],
   "source": [
    "print(\"MAE:\", abs(np.array(series[-1][preemption:]) - np.array(y_true[preemption:])).mean())"
   ]
  },
  {
   "cell_type": "code",
   "execution_count": null,
   "id": "c59fd196-e20c-4546-934e-10ef5e111662",
   "metadata": {},
   "outputs": [],
   "source": []
  }
 ],
 "metadata": {
  "kernelspec": {
   "display_name": "Python 3 (ipykernel)",
   "language": "python",
   "name": "python3"
  },
  "language_info": {
   "codemirror_mode": {
    "name": "ipython",
    "version": 3
   },
   "file_extension": ".py",
   "mimetype": "text/x-python",
   "name": "python",
   "nbconvert_exporter": "python",
   "pygments_lexer": "ipython3",
   "version": "3.10.1"
  }
 },
 "nbformat": 4,
 "nbformat_minor": 5
}
