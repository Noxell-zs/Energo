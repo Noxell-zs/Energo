{
 "cells": [
  {
   "cell_type": "markdown",
   "id": "7f196460-b9f6-44c8-836a-fca2e71b7b56",
   "metadata": {},
   "source": [
    "Почасовой прогноз"
   ]
  },
  {
   "cell_type": "code",
   "execution_count": 416,
   "id": "40cd186e-ac77-4124-a5aa-507fa3ba1018",
   "metadata": {},
   "outputs": [],
   "source": [
    "import numpy as np\n",
    "import pandas as pd\n",
    "import matplotlib.pyplot as plt\n",
    "import os.path\n",
    "import IPython\n",
    "import IPython.display\n",
    "import matplotlib as mpl\n",
    "import seaborn as sns\n",
    "import tensorflow as tf\n",
    "import tqdm\n",
    "from sklearn.preprocessing import MinMaxScaler\n",
    "from sklearn.neural_network import MLPRegressor\n",
    "\n",
    "import warnings\n",
    "warnings.simplefilter(\"ignore\")"
   ]
  },
  {
   "cell_type": "code",
   "execution_count": 417,
   "id": "f94703b0-95d6-4342-9218-1a15c839a686",
   "metadata": {},
   "outputs": [
    {
     "data": {
      "text/html": [
       "<div>\n",
       "<style scoped>\n",
       "    .dataframe tbody tr th:only-of-type {\n",
       "        vertical-align: middle;\n",
       "    }\n",
       "\n",
       "    .dataframe tbody tr th {\n",
       "        vertical-align: top;\n",
       "    }\n",
       "\n",
       "    .dataframe thead th {\n",
       "        text-align: right;\n",
       "    }\n",
       "</style>\n",
       "<table border=\"1\" class=\"dataframe\">\n",
       "  <thead>\n",
       "    <tr style=\"text-align: right;\">\n",
       "      <th></th>\n",
       "      <th>Время Мск</th>\n",
       "      <th>Генерация, МВт*ч\\</th>\n",
       "      <th>Потребление, МВт*ч</th>\n",
       "      <th>Местное время в Красноярске</th>\n",
       "      <th>T</th>\n",
       "      <th>Po</th>\n",
       "      <th>U</th>\n",
       "      <th>DD</th>\n",
       "      <th>Ff</th>\n",
       "      <th>N</th>\n",
       "      <th>VV</th>\n",
       "    </tr>\n",
       "  </thead>\n",
       "  <tbody>\n",
       "    <tr>\n",
       "      <th>0</th>\n",
       "      <td>01.01.2019 00:00</td>\n",
       "      <td>24804</td>\n",
       "      <td>25605</td>\n",
       "      <td>01.01.2019 04:00</td>\n",
       "      <td>-23.6</td>\n",
       "      <td>751.0</td>\n",
       "      <td>84.0</td>\n",
       "      <td>Ветер, дующий с северо-востока</td>\n",
       "      <td>1.0</td>\n",
       "      <td>Облаков нет.</td>\n",
       "      <td>4.0</td>\n",
       "    </tr>\n",
       "  </tbody>\n",
       "</table>\n",
       "</div>"
      ],
      "text/plain": [
       "          Время Мск  Генерация, МВт*ч\\  Потребление, МВт*ч  \\\n",
       "0  01.01.2019 00:00              24804               25605   \n",
       "\n",
       "  Местное время в Красноярске     T     Po     U  \\\n",
       "0            01.01.2019 04:00 -23.6  751.0  84.0   \n",
       "\n",
       "                               DD   Ff             N   VV  \n",
       "0  Ветер, дующий с северо-востока  1.0  Облаков нет.  4.0  "
      ]
     },
     "execution_count": 417,
     "metadata": {},
     "output_type": "execute_result"
    }
   ],
   "source": [
    "energo = pd.read_csv('result.csv')\n",
    "energo.head(1)"
   ]
  },
  {
   "cell_type": "code",
   "execution_count": 418,
   "id": "336b0f93-7419-4e45-9fd4-6ad6512c361f",
   "metadata": {},
   "outputs": [],
   "source": [
    "labels = ['Генерация, МВт*ч\\\\', 'T', 'Po', 'U', 'Ff', 'VV']\n",
    "target = 'Потребление, МВт*ч'\n",
    "names = labels + ['Потребление, МВт*ч']"
   ]
  },
  {
   "cell_type": "code",
   "execution_count": 419,
   "id": "d3610e6d-75f3-49f8-a39e-b8da7f9e30ac",
   "metadata": {},
   "outputs": [],
   "source": [
    "energo = energo[names]"
   ]
  },
  {
   "cell_type": "code",
   "execution_count": 420,
   "id": "66e6a0ba-e9ce-40f6-997d-562c389eb292",
   "metadata": {},
   "outputs": [
    {
     "data": {
      "text/plain": [
       "672"
      ]
     },
     "execution_count": 420,
     "metadata": {},
     "output_type": "execute_result"
    }
   ],
   "source": [
    "four_old = energo.iloc[: 24 * 7 * 4]\n",
    "n_four_old = four_old.shape[0]\n",
    "n_four_old"
   ]
  },
  {
   "cell_type": "code",
   "execution_count": 421,
   "id": "e4915fc9-51c1-4023-ae77-d65654db70c1",
   "metadata": {},
   "outputs": [
    {
     "data": {
      "text/plain": [
       "504"
      ]
     },
     "execution_count": 421,
     "metadata": {},
     "output_type": "execute_result"
    }
   ],
   "source": [
    "three_new = energo.iloc[energo.shape[0] - 24 * 7 * 3 -24*7 : -24*7]\n",
    "n_three_new = three_new.shape[0]\n",
    "n_three_new"
   ]
  },
  {
   "cell_type": "code",
   "execution_count": 422,
   "id": "3eaedd4b-cd6a-4c92-9135-ab0e9f577326",
   "metadata": {},
   "outputs": [],
   "source": [
    "scaler = MinMaxScaler(feature_range=(0, 1)).fit(pd.concat((four_old, three_new)))"
   ]
  },
  {
   "cell_type": "code",
   "execution_count": 423,
   "id": "42d42809-20a7-49b7-8d8b-7ea4a9d666ca",
   "metadata": {},
   "outputs": [],
   "source": [
    "preemption = 24 * 3"
   ]
  },
  {
   "cell_type": "code",
   "execution_count": 424,
   "id": "464a6a91-8618-4de1-93b4-86c68cc2199e",
   "metadata": {},
   "outputs": [],
   "source": [
    "train_x = ([scaler.transform(four_old)[i: i+preemption] for i in range(n_four_old - preemption)] +\n",
    "    [scaler.transform(three_new)[i: i+preemption] for i in range(n_three_new - preemption)])"
   ]
  },
  {
   "cell_type": "code",
   "execution_count": 425,
   "id": "d0c19c2b-0604-40d2-8fe2-ec2af283a1a1",
   "metadata": {},
   "outputs": [],
   "source": [
    "sh = np.array(train_x).shape[2]\n",
    "s_train_x = [[] for _ in range(sh)]\n",
    "\n",
    "for i in train_x:\n",
    "    for j in range(sh):\n",
    "        s_train_x[j].append(i.T[j])"
   ]
  },
  {
   "cell_type": "code",
   "execution_count": 426,
   "id": "450a839f-863b-497d-8584-6c5897b0f483",
   "metadata": {},
   "outputs": [],
   "source": [
    "gr_train_x = list(map(np.concatenate, train_x))"
   ]
  },
  {
   "cell_type": "code",
   "execution_count": 427,
   "id": "dbee1766-bcd2-4775-8cd4-39d8056a2e16",
   "metadata": {},
   "outputs": [],
   "source": [
    "train_subs = np.concatenate((scaler.transform(four_old)[preemption-n_four_old:],\n",
    "    scaler.transform(three_new)[preemption-n_three_new:])).T"
   ]
  },
  {
   "cell_type": "code",
   "execution_count": 428,
   "id": "610798aa-9e30-4ba2-bae9-a36866fc49a7",
   "metadata": {},
   "outputs": [],
   "source": [
    "train_y = train_subs[-1]"
   ]
  },
  {
   "cell_type": "code",
   "execution_count": 429,
   "id": "6bdb3c33-425c-4356-abb1-1aaa260d5d00",
   "metadata": {},
   "outputs": [],
   "source": [
    "sub_models = [MLPRegressor(hidden_layer_sizes=(500,), max_iter=1000, random_state=1) for _ in train_subs[:-1]]\n",
    "g_model = MLPRegressor(hidden_layer_sizes=(500,), max_iter=1000, random_state=1)"
   ]
  },
  {
   "cell_type": "code",
   "execution_count": 430,
   "id": "bab9676a-479a-4670-af19-f32c5cf9a463",
   "metadata": {},
   "outputs": [
    {
     "data": {
      "text/html": [
       "<style>#sk-container-id-13 {color: black;background-color: white;}#sk-container-id-13 pre{padding: 0;}#sk-container-id-13 div.sk-toggleable {background-color: white;}#sk-container-id-13 label.sk-toggleable__label {cursor: pointer;display: block;width: 100%;margin-bottom: 0;padding: 0.3em;box-sizing: border-box;text-align: center;}#sk-container-id-13 label.sk-toggleable__label-arrow:before {content: \"▸\";float: left;margin-right: 0.25em;color: #696969;}#sk-container-id-13 label.sk-toggleable__label-arrow:hover:before {color: black;}#sk-container-id-13 div.sk-estimator:hover label.sk-toggleable__label-arrow:before {color: black;}#sk-container-id-13 div.sk-toggleable__content {max-height: 0;max-width: 0;overflow: hidden;text-align: left;background-color: #f0f8ff;}#sk-container-id-13 div.sk-toggleable__content pre {margin: 0.2em;color: black;border-radius: 0.25em;background-color: #f0f8ff;}#sk-container-id-13 input.sk-toggleable__control:checked~div.sk-toggleable__content {max-height: 200px;max-width: 100%;overflow: auto;}#sk-container-id-13 input.sk-toggleable__control:checked~label.sk-toggleable__label-arrow:before {content: \"▾\";}#sk-container-id-13 div.sk-estimator input.sk-toggleable__control:checked~label.sk-toggleable__label {background-color: #d4ebff;}#sk-container-id-13 div.sk-label input.sk-toggleable__control:checked~label.sk-toggleable__label {background-color: #d4ebff;}#sk-container-id-13 input.sk-hidden--visually {border: 0;clip: rect(1px 1px 1px 1px);clip: rect(1px, 1px, 1px, 1px);height: 1px;margin: -1px;overflow: hidden;padding: 0;position: absolute;width: 1px;}#sk-container-id-13 div.sk-estimator {font-family: monospace;background-color: #f0f8ff;border: 1px dotted black;border-radius: 0.25em;box-sizing: border-box;margin-bottom: 0.5em;}#sk-container-id-13 div.sk-estimator:hover {background-color: #d4ebff;}#sk-container-id-13 div.sk-parallel-item::after {content: \"\";width: 100%;border-bottom: 1px solid gray;flex-grow: 1;}#sk-container-id-13 div.sk-label:hover label.sk-toggleable__label {background-color: #d4ebff;}#sk-container-id-13 div.sk-serial::before {content: \"\";position: absolute;border-left: 1px solid gray;box-sizing: border-box;top: 0;bottom: 0;left: 50%;z-index: 0;}#sk-container-id-13 div.sk-serial {display: flex;flex-direction: column;align-items: center;background-color: white;padding-right: 0.2em;padding-left: 0.2em;position: relative;}#sk-container-id-13 div.sk-item {position: relative;z-index: 1;}#sk-container-id-13 div.sk-parallel {display: flex;align-items: stretch;justify-content: center;background-color: white;position: relative;}#sk-container-id-13 div.sk-item::before, #sk-container-id-13 div.sk-parallel-item::before {content: \"\";position: absolute;border-left: 1px solid gray;box-sizing: border-box;top: 0;bottom: 0;left: 50%;z-index: -1;}#sk-container-id-13 div.sk-parallel-item {display: flex;flex-direction: column;z-index: 1;position: relative;background-color: white;}#sk-container-id-13 div.sk-parallel-item:first-child::after {align-self: flex-end;width: 50%;}#sk-container-id-13 div.sk-parallel-item:last-child::after {align-self: flex-start;width: 50%;}#sk-container-id-13 div.sk-parallel-item:only-child::after {width: 0;}#sk-container-id-13 div.sk-dashed-wrapped {border: 1px dashed gray;margin: 0 0.4em 0.5em 0.4em;box-sizing: border-box;padding-bottom: 0.4em;background-color: white;}#sk-container-id-13 div.sk-label label {font-family: monospace;font-weight: bold;display: inline-block;line-height: 1.2em;}#sk-container-id-13 div.sk-label-container {text-align: center;}#sk-container-id-13 div.sk-container {/* jupyter's `normalize.less` sets `[hidden] { display: none; }` but bootstrap.min.css set `[hidden] { display: none !important; }` so we also need the `!important` here to be able to override the default hidden behavior on the sphinx rendered scikit-learn.org. See: https://github.com/scikit-learn/scikit-learn/issues/21755 */display: inline-block !important;position: relative;}#sk-container-id-13 div.sk-text-repr-fallback {display: none;}</style><div id=\"sk-container-id-13\" class=\"sk-top-container\"><div class=\"sk-text-repr-fallback\"><pre>MLPRegressor(hidden_layer_sizes=(500,), max_iter=1000, random_state=1)</pre><b>In a Jupyter environment, please rerun this cell to show the HTML representation or trust the notebook. <br />On GitHub, the HTML representation is unable to render, please try loading this page with nbviewer.org.</b></div><div class=\"sk-container\" hidden><div class=\"sk-item\"><div class=\"sk-estimator sk-toggleable\"><input class=\"sk-toggleable__control sk-hidden--visually\" id=\"sk-estimator-id-13\" type=\"checkbox\" checked><label for=\"sk-estimator-id-13\" class=\"sk-toggleable__label sk-toggleable__label-arrow\">MLPRegressor</label><div class=\"sk-toggleable__content\"><pre>MLPRegressor(hidden_layer_sizes=(500,), max_iter=1000, random_state=1)</pre></div></div></div></div></div>"
      ],
      "text/plain": [
       "MLPRegressor(hidden_layer_sizes=(500,), max_iter=1000, random_state=1)"
      ]
     },
     "execution_count": 430,
     "metadata": {},
     "output_type": "execute_result"
    }
   ],
   "source": [
    "g_model.fit(gr_train_x, train_y)"
   ]
  },
  {
   "cell_type": "code",
   "execution_count": 431,
   "id": "a7fbd4de-fe43-4e66-a7c9-2eeb4ceb472c",
   "metadata": {},
   "outputs": [
    {
     "name": "stderr",
     "output_type": "stream",
     "text": [
      "100%|████████████████████████████████████████████████████████████████████████████████████| 6/6 [00:06<00:00,  1.08s/it]\n"
     ]
    }
   ],
   "source": [
    "for i in tqdm.tqdm(range(len(sub_models))):\n",
    "    sub_models[i].fit(s_train_x[i], train_subs[i])"
   ]
  },
  {
   "cell_type": "code",
   "execution_count": 432,
   "id": "09fb7d72-8f90-447a-9d3e-da3219fe9e2a",
   "metadata": {},
   "outputs": [],
   "source": [
    "series = scaler.transform(three_new)[-preemption:].T.tolist()"
   ]
  },
  {
   "cell_type": "code",
   "execution_count": 433,
   "id": "16921b00-c977-4431-8198-1941569b2100",
   "metadata": {},
   "outputs": [
    {
     "name": "stderr",
     "output_type": "stream",
     "text": [
      "100%|███████████████████████████████████████████████████████████████████████████████| 168/168 [00:00<00:00, 676.10it/s]\n"
     ]
    }
   ],
   "source": [
    "for _ in tqdm.tqdm(range(24*7)):\n",
    "    for i in range(sh-1):\n",
    "        series[i].append(sub_models[i].predict([series[i][-preemption:]])[0])"
   ]
  },
  {
   "cell_type": "code",
   "execution_count": 434,
   "id": "59acd954-d65b-40d0-9b07-2cb7d9feb12e",
   "metadata": {},
   "outputs": [
    {
     "name": "stderr",
     "output_type": "stream",
     "text": [
      "100%|██████████████████████████████████████████████████████████████████████████████| 168/168 [00:00<00:00, 2507.53it/s]\n"
     ]
    }
   ],
   "source": [
    "for _ in tqdm.tqdm(range(24*7)):\n",
    "    s = np.array([i[-preemption:] for i in series]).reshape(-1)\n",
    "    series[-1].append(g_model.predict([s])[0])"
   ]
  },
  {
   "cell_type": "code",
   "execution_count": 435,
   "id": "0762b6f1-c239-44ab-a34e-7d21a2149010",
   "metadata": {},
   "outputs": [],
   "source": [
    "y_true = [i[-1] for i in scaler.transform(energo.iloc[-24*7-preemption:])]"
   ]
  },
  {
   "cell_type": "code",
   "execution_count": 436,
   "id": "8d94ada4-cc21-4f27-b139-26115a767ece",
   "metadata": {},
   "outputs": [
    {
     "data": {
      "image/png": "[encoded data removed]",
      "text/plain": [
       "<Figure size 640x480 with 1 Axes>"
      ]
     },
     "metadata": {},
     "output_type": "display_data"
    }
   ],
   "source": [
    "plt.plot(series[-1])\n",
    "plt.plot(y_true)\n",
    "plt.show()"
   ]
  },
  {
   "cell_type": "code",
   "execution_count": null,
   "id": "6370429d-69c9-44ae-8c35-ad9b04db8242",
   "metadata": {},
   "outputs": [],
   "source": []
  }
 ],
 "metadata": {
  "kernelspec": {
   "display_name": "Python 3 (ipykernel)",
   "language": "python",
   "name": "python3"
  },
  "language_info": {
   "codemirror_mode": {
    "name": "ipython",
    "version": 3
   },
   "file_extension": ".py",
   "mimetype": "text/x-python",
   "name": "python",
   "nbconvert_exporter": "python",
   "pygments_lexer": "ipython3",
   "version": "3.10.1"
  }
 },
 "nbformat": 4,
 "nbformat_minor": 5
}
